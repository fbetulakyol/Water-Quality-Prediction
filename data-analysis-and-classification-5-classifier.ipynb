{
 "cells": [
  {
   "cell_type": "code",
   "execution_count": 1,
   "id": "16ce7715",
   "metadata": {
    "_cell_guid": "b1076dfc-b9ad-4769-8c92-a6c4dae69d19",
    "_uuid": "8f2839f25d086af736a60e9eeb907d3b93b6e0e5",
    "execution": {
     "iopub.execute_input": "2021-08-07T12:44:25.014181Z",
     "iopub.status.busy": "2021-08-07T12:44:25.013502Z",
     "iopub.status.idle": "2021-08-07T12:44:26.245027Z",
     "shell.execute_reply": "2021-08-07T12:44:26.244062Z",
     "shell.execute_reply.started": "2021-08-07T11:45:46.929916Z"
    },
    "papermill": {
     "duration": 1.268378,
     "end_time": "2021-08-07T12:44:26.245192",
     "exception": false,
     "start_time": "2021-08-07T12:44:24.976814",
     "status": "completed"
    },
    "tags": []
   },
   "outputs": [],
   "source": [
    "import numpy as np \n",
    "import pandas as pd \n",
    "import matplotlib.pyplot as plt\n",
    "import seaborn as sns\n",
    "from sklearn.metrics import accuracy_score,precision_score,confusion_matrix,f1_score,classification_report\n",
    "import os\n",
    "from scipy import stats\n",
    "from sklearn import preprocessing\n",
    "from sklearn.model_selection import train_test_split\n",
    "from sklearn import tree\n",
    "from sklearn.naive_bayes import GaussianNB"
   ]
  },
  {
   "cell_type": "code",
   "execution_count": 2,
   "id": "1e878b35",
   "metadata": {
    "execution": {
     "iopub.execute_input": "2021-08-07T12:44:26.296639Z",
     "iopub.status.busy": "2021-08-07T12:44:26.295919Z",
     "iopub.status.idle": "2021-08-07T12:44:26.362512Z",
     "shell.execute_reply": "2021-08-07T12:44:26.363033Z",
     "shell.execute_reply.started": "2021-08-07T11:45:52.599746Z"
    },
    "papermill": {
     "duration": 0.09479,
     "end_time": "2021-08-07T12:44:26.363212",
     "exception": false,
     "start_time": "2021-08-07T12:44:26.268422",
     "status": "completed"
    },
    "tags": []
   },
   "outputs": [
    {
     "data": {
      "text/html": [
       "<div>\n",
       "<style scoped>\n",
       "    .dataframe tbody tr th:only-of-type {\n",
       "        vertical-align: middle;\n",
       "    }\n",
       "\n",
       "    .dataframe tbody tr th {\n",
       "        vertical-align: top;\n",
       "    }\n",
       "\n",
       "    .dataframe thead th {\n",
       "        text-align: right;\n",
       "    }\n",
       "</style>\n",
       "<table border=\"1\" class=\"dataframe\">\n",
       "  <thead>\n",
       "    <tr style=\"text-align: right;\">\n",
       "      <th></th>\n",
       "      <th>ph</th>\n",
       "      <th>Hardness</th>\n",
       "      <th>Solids</th>\n",
       "      <th>Chloramines</th>\n",
       "      <th>Sulfate</th>\n",
       "      <th>Conductivity</th>\n",
       "      <th>Organic_carbon</th>\n",
       "      <th>Trihalomethanes</th>\n",
       "      <th>Turbidity</th>\n",
       "      <th>Potability</th>\n",
       "    </tr>\n",
       "  </thead>\n",
       "  <tbody>\n",
       "    <tr>\n",
       "      <th>0</th>\n",
       "      <td>NaN</td>\n",
       "      <td>204.890455</td>\n",
       "      <td>20791.318981</td>\n",
       "      <td>7.300212</td>\n",
       "      <td>368.516441</td>\n",
       "      <td>564.308654</td>\n",
       "      <td>10.379783</td>\n",
       "      <td>86.990970</td>\n",
       "      <td>2.963135</td>\n",
       "      <td>0</td>\n",
       "    </tr>\n",
       "    <tr>\n",
       "      <th>1</th>\n",
       "      <td>3.716080</td>\n",
       "      <td>129.422921</td>\n",
       "      <td>18630.057858</td>\n",
       "      <td>6.635246</td>\n",
       "      <td>NaN</td>\n",
       "      <td>592.885359</td>\n",
       "      <td>15.180013</td>\n",
       "      <td>56.329076</td>\n",
       "      <td>4.500656</td>\n",
       "      <td>0</td>\n",
       "    </tr>\n",
       "    <tr>\n",
       "      <th>2</th>\n",
       "      <td>8.099124</td>\n",
       "      <td>224.236259</td>\n",
       "      <td>19909.541732</td>\n",
       "      <td>9.275884</td>\n",
       "      <td>NaN</td>\n",
       "      <td>418.606213</td>\n",
       "      <td>16.868637</td>\n",
       "      <td>66.420093</td>\n",
       "      <td>3.055934</td>\n",
       "      <td>0</td>\n",
       "    </tr>\n",
       "    <tr>\n",
       "      <th>3</th>\n",
       "      <td>8.316766</td>\n",
       "      <td>214.373394</td>\n",
       "      <td>22018.417441</td>\n",
       "      <td>8.059332</td>\n",
       "      <td>356.886136</td>\n",
       "      <td>363.266516</td>\n",
       "      <td>18.436524</td>\n",
       "      <td>100.341674</td>\n",
       "      <td>4.628771</td>\n",
       "      <td>0</td>\n",
       "    </tr>\n",
       "    <tr>\n",
       "      <th>4</th>\n",
       "      <td>9.092223</td>\n",
       "      <td>181.101509</td>\n",
       "      <td>17978.986339</td>\n",
       "      <td>6.546600</td>\n",
       "      <td>310.135738</td>\n",
       "      <td>398.410813</td>\n",
       "      <td>11.558279</td>\n",
       "      <td>31.997993</td>\n",
       "      <td>4.075075</td>\n",
       "      <td>0</td>\n",
       "    </tr>\n",
       "  </tbody>\n",
       "</table>\n",
       "</div>"
      ],
      "text/plain": [
       "         ph    Hardness        Solids  Chloramines     Sulfate  Conductivity  \\\n",
       "0       NaN  204.890455  20791.318981     7.300212  368.516441    564.308654   \n",
       "1  3.716080  129.422921  18630.057858     6.635246         NaN    592.885359   \n",
       "2  8.099124  224.236259  19909.541732     9.275884         NaN    418.606213   \n",
       "3  8.316766  214.373394  22018.417441     8.059332  356.886136    363.266516   \n",
       "4  9.092223  181.101509  17978.986339     6.546600  310.135738    398.410813   \n",
       "\n",
       "   Organic_carbon  Trihalomethanes  Turbidity  Potability  \n",
       "0       10.379783        86.990970   2.963135           0  \n",
       "1       15.180013        56.329076   4.500656           0  \n",
       "2       16.868637        66.420093   3.055934           0  \n",
       "3       18.436524       100.341674   4.628771           0  \n",
       "4       11.558279        31.997993   4.075075           0  "
      ]
     },
     "execution_count": 2,
     "metadata": {},
     "output_type": "execute_result"
    }
   ],
   "source": [
    "df=pd.read_csv(\"../input/water-potability/water_potability.csv\")\n",
    "df.head()"
   ]
  },
  {
   "cell_type": "markdown",
   "id": "9ccd38f4",
   "metadata": {
    "papermill": {
     "duration": 0.02318,
     "end_time": "2021-08-07T12:44:26.410115",
     "exception": false,
     "start_time": "2021-08-07T12:44:26.386935",
     "status": "completed"
    },
    "tags": []
   },
   "source": [
    "# **Missing Value Analysis**\n",
    "\n",
    "\n",
    " ***The missing values count of each column in the data frame is shown below.***\n",
    " \n",
    " ***Missing values are replaced for each column by the mean of the class to which that sample belongs.***"
   ]
  },
  {
   "cell_type": "code",
   "execution_count": 3,
   "id": "58912ffc",
   "metadata": {
    "execution": {
     "iopub.execute_input": "2021-08-07T12:44:26.465860Z",
     "iopub.status.busy": "2021-08-07T12:44:26.465145Z",
     "iopub.status.idle": "2021-08-07T12:44:26.467738Z",
     "shell.execute_reply": "2021-08-07T12:44:26.468324Z",
     "shell.execute_reply.started": "2021-08-07T11:45:58.056508Z"
    },
    "papermill": {
     "duration": 0.034789,
     "end_time": "2021-08-07T12:44:26.468505",
     "exception": false,
     "start_time": "2021-08-07T12:44:26.433716",
     "status": "completed"
    },
    "tags": []
   },
   "outputs": [
    {
     "data": {
      "text/plain": [
       "ph                 491\n",
       "Hardness             0\n",
       "Solids               0\n",
       "Chloramines          0\n",
       "Sulfate            781\n",
       "Conductivity         0\n",
       "Organic_carbon       0\n",
       "Trihalomethanes    162\n",
       "Turbidity            0\n",
       "Potability           0\n",
       "dtype: int64"
      ]
     },
     "execution_count": 3,
     "metadata": {},
     "output_type": "execute_result"
    }
   ],
   "source": [
    "df.isnull().sum()"
   ]
  },
  {
   "cell_type": "code",
   "execution_count": 4,
   "id": "6d5ced58",
   "metadata": {
    "execution": {
     "iopub.execute_input": "2021-08-07T12:44:26.527066Z",
     "iopub.status.busy": "2021-08-07T12:44:26.519139Z",
     "iopub.status.idle": "2021-08-07T12:44:26.566565Z",
     "shell.execute_reply": "2021-08-07T12:44:26.565219Z",
     "shell.execute_reply.started": "2021-08-07T11:46:07.989686Z"
    },
    "papermill": {
     "duration": 0.074221,
     "end_time": "2021-08-07T12:44:26.566730",
     "exception": false,
     "start_time": "2021-08-07T12:44:26.492509",
     "status": "completed"
    },
    "tags": []
   },
   "outputs": [],
   "source": [
    "df = df.fillna(df.groupby('Potability').transform('mean'))"
   ]
  },
  {
   "attachments": {
    "3d22b4ae-8c9f-477e-8d85-b24cf5623196.png": {
     "image/png": "[encoded data removed]"
    }
   },
   "cell_type": "markdown",
   "id": "f18acdd4",
   "metadata": {
    "papermill": {
     "duration": 0.024658,
     "end_time": "2021-08-07T12:44:26.616184",
     "exception": false,
     "start_time": "2021-08-07T12:44:26.591526",
     "status": "completed"
    },
    "tags": []
   },
   "source": [
    "# **Data Analysis**\n",
    "\n",
    "* In order to find relationship type(weak,moderate,strong), for each column pearson_coefficient and p_values were calculated.\n",
    "* Threshold value for determining significance is 0.05.\n",
    "\n",
    "***If p_value<0.05 there is a linear relationship between two varaiables (statistically significant)***\n",
    "\n",
    "***If p_value>0.05 there is no linear relationship between two varaiables (not statistically significant)***\n",
    "![image.png](attachment:3d22b4ae-8c9f-477e-8d85-b24cf5623196.png)\n"
   ]
  },
  {
   "attachments": {
    "50fe421b-7904-43b8-9e35-43ce22d7dbf9.png": {
     "image/png": "[encoded data removed]"
    }
   },
   "cell_type": "markdown",
   "id": "81a55d44",
   "metadata": {
    "papermill": {
     "duration": 0.023477,
     "end_time": "2021-08-07T12:44:26.665707",
     "exception": false,
     "start_time": "2021-08-07T12:44:26.642230",
     "status": "completed"
    },
    "tags": []
   },
   "source": [
    "**Visualization of relationship between variables**\n",
    "\n",
    "Regplot function that is inside the seaborn library is used for the visualization of relationships.\n",
    "![image.png](attachment:50fe421b-7904-43b8-9e35-43ce22d7dbf9.png)\n",
    "\n",
    "*According to this image we can say there is no linear relationship between Solids feature and Potability.*"
   ]
  },
  {
   "cell_type": "code",
   "execution_count": 5,
   "id": "32f1a7ad",
   "metadata": {
    "execution": {
     "iopub.execute_input": "2021-08-07T12:44:26.734610Z",
     "iopub.status.busy": "2021-08-07T12:44:26.733859Z",
     "iopub.status.idle": "2021-08-07T12:44:27.252029Z",
     "shell.execute_reply": "2021-08-07T12:44:27.250940Z",
     "shell.execute_reply.started": "2021-08-07T12:21:43.449942Z"
    },
    "papermill": {
     "duration": 0.562783,
     "end_time": "2021-08-07T12:44:27.252173",
     "exception": false,
     "start_time": "2021-08-07T12:44:26.689390",
     "status": "completed"
    },
    "tags": []
   },
   "outputs": [
    {
     "data": {
      "text/plain": [
       "(0.0, 1.05)"
      ]
     },
     "execution_count": 5,
     "metadata": {},
     "output_type": "execute_result"
    },
    {
     "data": {
      "image/png": "[encoded data removed]",
      "text/plain": [
       "<Figure size 432x288 with 1 Axes>"
      ]
     },
     "metadata": {
      "needs_background": "light"
     },
     "output_type": "display_data"
    }
   ],
   "source": [
    "sns.regplot(x=\"ph\", y=\"Potability\", data=df)\n",
    "plt.ylim(0,)"
   ]
  },
  {
   "cell_type": "code",
   "execution_count": 6,
   "id": "4ba60eb2",
   "metadata": {
    "execution": {
     "iopub.execute_input": "2021-08-07T12:44:27.309012Z",
     "iopub.status.busy": "2021-08-07T12:44:27.308222Z",
     "iopub.status.idle": "2021-08-07T12:44:27.766807Z",
     "shell.execute_reply": "2021-08-07T12:44:27.766161Z",
     "shell.execute_reply.started": "2021-08-07T12:22:27.092103Z"
    },
    "papermill": {
     "duration": 0.490029,
     "end_time": "2021-08-07T12:44:27.766944",
     "exception": false,
     "start_time": "2021-08-07T12:44:27.276915",
     "status": "completed"
    },
    "tags": []
   },
   "outputs": [
    {
     "data": {
      "text/plain": [
       "(0.0, 1.05)"
      ]
     },
     "execution_count": 6,
     "metadata": {},
     "output_type": "execute_result"
    },
    {
     "data": {
      "image/png": "[encoded data removed]",
      "text/plain": [
       "<Figure size 432x288 with 1 Axes>"
      ]
     },
     "metadata": {
      "needs_background": "light"
     },
     "output_type": "display_data"
    }
   ],
   "source": [
    "sns.regplot(x=\"Solids\", y=\"Potability\", data=df)\n",
    "plt.ylim(0,)"
   ]
  },
  {
   "cell_type": "code",
   "execution_count": 7,
   "id": "e7585a00",
   "metadata": {
    "execution": {
     "iopub.execute_input": "2021-08-07T12:44:27.847075Z",
     "iopub.status.busy": "2021-08-07T12:44:27.846343Z",
     "iopub.status.idle": "2021-08-07T12:44:28.600563Z",
     "shell.execute_reply": "2021-08-07T12:44:28.599484Z",
     "shell.execute_reply.started": "2021-08-07T12:24:12.537349Z"
    },
    "papermill": {
     "duration": 0.807842,
     "end_time": "2021-08-07T12:44:28.600716",
     "exception": false,
     "start_time": "2021-08-07T12:44:27.792874",
     "status": "completed"
    },
    "tags": []
   },
   "outputs": [
    {
     "data": {
      "image/png": "[encoded data removed]",
      "text/plain": [
       "<Figure size 432x288 with 2 Axes>"
      ]
     },
     "metadata": {
      "needs_background": "light"
     },
     "output_type": "display_data"
    }
   ],
   "source": [
    "plt.pcolor(df, cmap='RdBu')\n",
    "plt.colorbar()\n",
    "plt.show()"
   ]
  },
  {
   "cell_type": "code",
   "execution_count": 8,
   "id": "939ffb4d",
   "metadata": {
    "execution": {
     "iopub.execute_input": "2021-08-07T12:44:28.754263Z",
     "iopub.status.busy": "2021-08-07T12:44:28.753146Z",
     "iopub.status.idle": "2021-08-07T12:44:28.771284Z",
     "shell.execute_reply": "2021-08-07T12:44:28.771787Z",
     "shell.execute_reply.started": "2021-08-07T11:56:19.490754Z"
    },
    "papermill": {
     "duration": 0.144399,
     "end_time": "2021-08-07T12:44:28.771952",
     "exception": false,
     "start_time": "2021-08-07T12:44:28.627553",
     "status": "completed"
    },
    "tags": []
   },
   "outputs": [
    {
     "name": "stdout",
     "output_type": "stream",
     "text": [
      "ph : Pearson: -0.003848192545447661 p_value:  0.8257362194471898\n",
      "Hardness : Pearson: -0.013836558085111503 p_value:  0.42854158740632414\n",
      "Solids : Pearson: 0.03374331339365007 p_value:  0.053463638184221056\n",
      "Chloramines : Pearson: 0.023778971994669704 p_value:  0.17361022464989928\n",
      "Sulfate : Pearson: -0.0269570322776832 p_value:  0.12292453703859323\n",
      "Conductivity : Pearson: -0.008128319721545504 p_value:  0.6418845485941129\n",
      "Organic_carbon : Pearson: -0.030001366610944716 p_value:  0.08599746163829544\n",
      "Trihalomethanes : Pearson: 0.0073047431316242495 p_value:  0.675988889790504\n",
      "Turbidity : Pearson: 0.0015806819539223298 p_value:  0.9279391620791434\n",
      "Potability : Pearson: 0.9999999999999958 p_value:  0.0\n"
     ]
    }
   ],
   "source": [
    "\n",
    "for i,j  in enumerate(df.columns):\n",
    "    pearson_coefficient, p_val = stats.pearsonr(df[str(j)], df['Potability'])\n",
    "    print(str(j),\":\",\"Pearson:\",pearson_coefficient,'p_value: ',p_val)\n"
   ]
  },
  {
   "cell_type": "markdown",
   "id": "8bca7304",
   "metadata": {
    "papermill": {
     "duration": 0.026829,
     "end_time": "2021-08-07T12:44:28.826204",
     "exception": false,
     "start_time": "2021-08-07T12:44:28.799375",
     "status": "completed"
    },
    "tags": []
   },
   "source": [
    "# Classification\n",
    "\n",
    "**Classifiers:**\n",
    "* Decision Tree\n",
    "* Naive Bayes\n",
    "* Logistic Regression\n",
    "* GradientBoosting\n",
    "* Random Forest"
   ]
  },
  {
   "cell_type": "code",
   "execution_count": 9,
   "id": "238c646e",
   "metadata": {
    "execution": {
     "iopub.execute_input": "2021-08-07T12:44:28.888461Z",
     "iopub.status.busy": "2021-08-07T12:44:28.887798Z",
     "iopub.status.idle": "2021-08-07T12:44:28.891020Z",
     "shell.execute_reply": "2021-08-07T12:44:28.890426Z",
     "shell.execute_reply.started": "2021-08-07T12:37:07.496687Z"
    },
    "papermill": {
     "duration": 0.037521,
     "end_time": "2021-08-07T12:44:28.891162",
     "exception": false,
     "start_time": "2021-08-07T12:44:28.853641",
     "status": "completed"
    },
    "tags": []
   },
   "outputs": [],
   "source": [
    "X=np.asarray(df.drop(['Potability'],axis=1))\n",
    "y=np.asarray(df['Potability'])"
   ]
  },
  {
   "cell_type": "code",
   "execution_count": 10,
   "id": "cec0238f",
   "metadata": {
    "execution": {
     "iopub.execute_input": "2021-08-07T12:44:28.954239Z",
     "iopub.status.busy": "2021-08-07T12:44:28.953429Z",
     "iopub.status.idle": "2021-08-07T12:44:28.959232Z",
     "shell.execute_reply": "2021-08-07T12:44:28.959709Z",
     "shell.execute_reply.started": "2021-08-07T12:37:09.047121Z"
    },
    "papermill": {
     "duration": 0.040684,
     "end_time": "2021-08-07T12:44:28.959893",
     "exception": false,
     "start_time": "2021-08-07T12:44:28.919209",
     "status": "completed"
    },
    "tags": []
   },
   "outputs": [],
   "source": [
    "\n",
    "le = preprocessing.LabelEncoder()\n",
    "X = preprocessing.StandardScaler().fit(X).transform(X.astype(float))\n",
    "\n",
    "y=le.fit_transform(y)"
   ]
  },
  {
   "cell_type": "code",
   "execution_count": 11,
   "id": "b56d0920",
   "metadata": {
    "execution": {
     "iopub.execute_input": "2021-08-07T12:44:29.024761Z",
     "iopub.status.busy": "2021-08-07T12:44:29.023761Z",
     "iopub.status.idle": "2021-08-07T12:44:29.027656Z",
     "shell.execute_reply": "2021-08-07T12:44:29.028162Z",
     "shell.execute_reply.started": "2021-08-07T12:37:11.580451Z"
    },
    "papermill": {
     "duration": 0.038984,
     "end_time": "2021-08-07T12:44:29.028342",
     "exception": false,
     "start_time": "2021-08-07T12:44:28.989358",
     "status": "completed"
    },
    "tags": []
   },
   "outputs": [],
   "source": [
    "X_train, X_test, y_train, y_test = train_test_split( X, y, test_size=0.2, random_state=42)"
   ]
  },
  {
   "cell_type": "markdown",
   "id": "15deaa3c",
   "metadata": {
    "papermill": {
     "duration": 0.02698,
     "end_time": "2021-08-07T12:44:29.083030",
     "exception": false,
     "start_time": "2021-08-07T12:44:29.056050",
     "status": "completed"
    },
    "tags": []
   },
   "source": [
    "***Decision Tree Classifier***"
   ]
  },
  {
   "cell_type": "code",
   "execution_count": 12,
   "id": "af5f6f76",
   "metadata": {
    "execution": {
     "iopub.execute_input": "2021-08-07T12:44:29.143376Z",
     "iopub.status.busy": "2021-08-07T12:44:29.142668Z",
     "iopub.status.idle": "2021-08-07T12:44:29.174062Z",
     "shell.execute_reply": "2021-08-07T12:44:29.173460Z",
     "shell.execute_reply.started": "2021-08-07T12:37:16.543949Z"
    },
    "papermill": {
     "duration": 0.063854,
     "end_time": "2021-08-07T12:44:29.174202",
     "exception": false,
     "start_time": "2021-08-07T12:44:29.110348",
     "status": "completed"
    },
    "tags": []
   },
   "outputs": [
    {
     "name": "stdout",
     "output_type": "stream",
     "text": [
      "0.7347560975609756\n",
      "0.6434426229508197\n"
     ]
    }
   ],
   "source": [
    "\n",
    "classifier=tree.DecisionTreeClassifier()\n",
    "classifier.fit(X_train,y_train)\n",
    "predictions=classifier.predict(X_test)\n",
    "\n",
    "print(accuracy_score(y_test,predictions))\n",
    "print(precision_score(y_test,predictions))"
   ]
  },
  {
   "cell_type": "markdown",
   "id": "44fcd6c3",
   "metadata": {
    "papermill": {
     "duration": 0.028564,
     "end_time": "2021-08-07T12:44:29.230458",
     "exception": false,
     "start_time": "2021-08-07T12:44:29.201894",
     "status": "completed"
    },
    "tags": []
   },
   "source": [
    "***Naive Bayes Classifier***"
   ]
  },
  {
   "cell_type": "code",
   "execution_count": 13,
   "id": "9adaf250",
   "metadata": {
    "execution": {
     "iopub.execute_input": "2021-08-07T12:44:29.291594Z",
     "iopub.status.busy": "2021-08-07T12:44:29.290881Z",
     "iopub.status.idle": "2021-08-07T12:44:29.305487Z",
     "shell.execute_reply": "2021-08-07T12:44:29.304431Z",
     "shell.execute_reply.started": "2021-08-07T12:38:11.450563Z"
    },
    "papermill": {
     "duration": 0.047761,
     "end_time": "2021-08-07T12:44:29.305752",
     "exception": false,
     "start_time": "2021-08-07T12:44:29.257991",
     "status": "completed"
    },
    "tags": []
   },
   "outputs": [
    {
     "name": "stdout",
     "output_type": "stream",
     "text": [
      "0.6310975609756098\n",
      "0.6310975609756098\n",
      "              precision    recall  f1-score   support\n",
      "\n",
      "           0       0.65      0.88      0.75       412\n",
      "           1       0.51      0.22      0.30       244\n",
      "\n",
      "    accuracy                           0.63       656\n",
      "   macro avg       0.58      0.55      0.53       656\n",
      "weighted avg       0.60      0.63      0.58       656\n",
      "\n"
     ]
    }
   ],
   "source": [
    "\n",
    "model = GaussianNB()\n",
    "model.fit(X_train, y_train)\n",
    "predicted = model.predict(X_test)\n",
    "print(accuracy_score(y_test, predicted))\n",
    "print(precision_score(y_test, predicted,average='micro'))\n",
    "\n",
    "print(classification_report(y_test, predicted))"
   ]
  },
  {
   "cell_type": "markdown",
   "id": "78670c5b",
   "metadata": {
    "papermill": {
     "duration": 0.02765,
     "end_time": "2021-08-07T12:44:29.362791",
     "exception": false,
     "start_time": "2021-08-07T12:44:29.335141",
     "status": "completed"
    },
    "tags": []
   },
   "source": [
    "***Logistic Regression***"
   ]
  },
  {
   "cell_type": "code",
   "execution_count": 14,
   "id": "1c018e61",
   "metadata": {
    "execution": {
     "iopub.execute_input": "2021-08-07T12:44:29.422267Z",
     "iopub.status.busy": "2021-08-07T12:44:29.421635Z",
     "iopub.status.idle": "2021-08-07T12:44:29.448910Z",
     "shell.execute_reply": "2021-08-07T12:44:29.450547Z",
     "shell.execute_reply.started": "2021-08-07T12:38:59.004884Z"
    },
    "papermill": {
     "duration": 0.060113,
     "end_time": "2021-08-07T12:44:29.451044",
     "exception": false,
     "start_time": "2021-08-07T12:44:29.390931",
     "status": "completed"
    },
    "tags": []
   },
   "outputs": [
    {
     "name": "stdout",
     "output_type": "stream",
     "text": [
      "Accuracy score:  0.6280487804878049\n"
     ]
    }
   ],
   "source": [
    "from sklearn.linear_model import LogisticRegression\n",
    "logreg = LogisticRegression()\n",
    "logreg.fit(X_train, y_train)\n",
    "pred = logreg.predict(X_test)\n",
    "print(\"Accuracy score: \",accuracy_score(y_test, pred))\n"
   ]
  },
  {
   "cell_type": "markdown",
   "id": "1e3c773f",
   "metadata": {
    "papermill": {
     "duration": 0.049511,
     "end_time": "2021-08-07T12:44:29.551891",
     "exception": false,
     "start_time": "2021-08-07T12:44:29.502380",
     "status": "completed"
    },
    "tags": []
   },
   "source": [
    "***Gradient Boosting***"
   ]
  },
  {
   "cell_type": "code",
   "execution_count": 15,
   "id": "bb76ae9e",
   "metadata": {
    "execution": {
     "iopub.execute_input": "2021-08-07T12:44:29.620345Z",
     "iopub.status.busy": "2021-08-07T12:44:29.619650Z",
     "iopub.status.idle": "2021-08-07T12:44:29.841067Z",
     "shell.execute_reply": "2021-08-07T12:44:29.840378Z",
     "shell.execute_reply.started": "2021-08-07T12:41:53.829194Z"
    },
    "papermill": {
     "duration": 0.255197,
     "end_time": "2021-08-07T12:44:29.841214",
     "exception": false,
     "start_time": "2021-08-07T12:44:29.586017",
     "status": "completed"
    },
    "tags": []
   },
   "outputs": [
    {
     "name": "stdout",
     "output_type": "stream",
     "text": [
      "Accuracy score:  0.7652439024390244\n",
      "Precision score:  0.9411764705882353\n",
      "              precision    recall  f1-score   support\n",
      "\n",
      "           0       0.73      0.99      0.84       412\n",
      "           1       0.94      0.39      0.55       244\n",
      "\n",
      "    accuracy                           0.77       656\n",
      "   macro avg       0.84      0.69      0.70       656\n",
      "weighted avg       0.81      0.77      0.73       656\n",
      "\n"
     ]
    }
   ],
   "source": [
    "from sklearn.ensemble import GradientBoostingClassifier\n",
    "gb = GradientBoostingClassifier(n_estimators=30,max_depth=2,random_state=0)\n",
    "gb.fit(X_train, y_train)\n",
    "predicted = gb.predict(X_test)\n",
    "print(\"Accuracy score: \",accuracy_score(y_test, predicted))\n",
    "print(\"Precision score: \",precision_score(y_test, predicted))\n",
    "print(classification_report(y_test, predicted))"
   ]
  },
  {
   "cell_type": "markdown",
   "id": "89877f35",
   "metadata": {
    "papermill": {
     "duration": 0.028181,
     "end_time": "2021-08-07T12:44:29.898015",
     "exception": false,
     "start_time": "2021-08-07T12:44:29.869834",
     "status": "completed"
    },
    "tags": []
   },
   "source": [
    "***Random Forest***"
   ]
  },
  {
   "cell_type": "code",
   "execution_count": 16,
   "id": "bae41325",
   "metadata": {
    "execution": {
     "iopub.execute_input": "2021-08-07T12:44:29.962633Z",
     "iopub.status.busy": "2021-08-07T12:44:29.961925Z",
     "iopub.status.idle": "2021-08-07T12:44:30.769846Z",
     "shell.execute_reply": "2021-08-07T12:44:30.768712Z",
     "shell.execute_reply.started": "2021-08-07T12:42:24.437658Z"
    },
    "papermill": {
     "duration": 0.842958,
     "end_time": "2021-08-07T12:44:30.770061",
     "exception": false,
     "start_time": "2021-08-07T12:44:29.927103",
     "status": "completed"
    },
    "tags": []
   },
   "outputs": [
    {
     "name": "stdout",
     "output_type": "stream",
     "text": [
      "Accuracy  score:  0.8109756097560976\n",
      "Precision score:  0.8225806451612904\n",
      "              precision    recall  f1-score   support\n",
      "\n",
      "           0       0.81      0.92      0.86       412\n",
      "           1       0.82      0.63      0.71       244\n",
      "\n",
      "    accuracy                           0.81       656\n",
      "   macro avg       0.81      0.77      0.79       656\n",
      "weighted avg       0.81      0.81      0.80       656\n",
      "\n"
     ]
    }
   ],
   "source": [
    "from sklearn.ensemble import RandomForestClassifier\n",
    "\n",
    "random_forest = RandomForestClassifier(random_state=0)\n",
    "\n",
    "random_forest.fit(X_train, y_train)\n",
    "prediction=random_forest.predict(X_test)\n",
    "print(\"Accuracy  score: \",accuracy_score(y_test, prediction))\n",
    "print(\"Precision score: \",precision_score(y_test, prediction))\n",
    "print(classification_report(y_test, prediction))\n"
   ]
  },
  {
   "cell_type": "code",
   "execution_count": 17,
   "id": "5065c7ce",
   "metadata": {
    "execution": {
     "iopub.execute_input": "2021-08-07T12:44:30.839267Z",
     "iopub.status.busy": "2021-08-07T12:44:30.838566Z",
     "iopub.status.idle": "2021-08-07T12:44:30.854080Z",
     "shell.execute_reply": "2021-08-07T12:44:30.853405Z",
     "shell.execute_reply.started": "2021-08-07T10:22:47.83129Z"
    },
    "papermill": {
     "duration": 0.051559,
     "end_time": "2021-08-07T12:44:30.854225",
     "exception": false,
     "start_time": "2021-08-07T12:44:30.802666",
     "status": "completed"
    },
    "tags": []
   },
   "outputs": [
    {
     "data": {
      "text/plain": [
       "Sulfate            0.287063\n",
       "ph                 0.185761\n",
       "Hardness           0.089865\n",
       "Chloramines        0.083976\n",
       "Solids             0.080604\n",
       "Trihalomethanes    0.072532\n",
       "Organic_carbon     0.070752\n",
       "Conductivity       0.067456\n",
       "Turbidity          0.061991\n",
       "dtype: float64"
      ]
     },
     "execution_count": 17,
     "metadata": {},
     "output_type": "execute_result"
    }
   ],
   "source": [
    "feature_imp = pd.Series(random_forest.feature_importances_,index=df.columns[0:9]).sort_values(ascending=False)\n",
    "feature_imp"
   ]
  },
  {
   "cell_type": "markdown",
   "id": "ed5a3796",
   "metadata": {
    "papermill": {
     "duration": 0.028728,
     "end_time": "2021-08-07T12:44:30.912312",
     "exception": false,
     "start_time": "2021-08-07T12:44:30.883584",
     "status": "completed"
    },
    "tags": []
   },
   "source": [
    "# Classifier Evaluation\n",
    "\n",
    "* **Decision Tree**: *Accuracy:* 73.47, *Precision:* 64.7\n",
    "* **Naive Bayes**: *Accuracy:* 63.1, *Precision:* 63.1\n",
    "* **Logistic Regression**: *Accuracy:* 62.8\n",
    "* **Gradient Boosting**: *Accuracy:* 76.5, *Precision:* 94.1\n",
    "* **Random Forest**: *Accuracy:* 81.09, *Precision:* 82.25"
   ]
  },
  {
   "cell_type": "code",
   "execution_count": null,
   "id": "398dc637",
   "metadata": {
    "papermill": {
     "duration": 0.028777,
     "end_time": "2021-08-07T12:44:30.970099",
     "exception": false,
     "start_time": "2021-08-07T12:44:30.941322",
     "status": "completed"
    },
    "tags": []
   },
   "outputs": [],
   "source": []
  }
 ],
 "metadata": {
  "kernelspec": {
   "display_name": "Python 3",
   "language": "python",
   "name": "python3"
  },
  "language_info": {
   "codemirror_mode": {
    "name": "ipython",
    "version": 3
   },
   "file_extension": ".py",
   "mimetype": "text/x-python",
   "name": "python",
   "nbconvert_exporter": "python",
   "pygments_lexer": "ipython3",
   "version": "3.7.10"
  },
  "papermill": {
   "default_parameters": {},
   "duration": 14.528772,
   "end_time": "2021-08-07T12:44:31.810052",
   "environment_variables": {},
   "exception": null,
   "input_path": "__notebook__.ipynb",
   "output_path": "__notebook__.ipynb",
   "parameters": {},
   "start_time": "2021-08-07T12:44:17.281280",
   "version": "2.3.3"
  }
 },
 "nbformat": 4,
 "nbformat_minor": 5
}
